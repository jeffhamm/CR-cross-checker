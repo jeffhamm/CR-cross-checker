{
  "cells": [
    {
      "cell_type": "markdown",
      "metadata": {
        "id": "view-in-github",
        "colab_type": "text"
      },
      "source": [
        "<a href=\"https://colab.research.google.com/github/jeffhamm/CR-cross-checker/blob/master/Tensorflow.ipynb\" target=\"_parent\"><img src=\"https://colab.research.google.com/assets/colab-badge.svg\" alt=\"Open In Colab\"/></a>"
      ]
    },
    {
      "cell_type": "code",
      "source": [
        "import tensorflow as tf\n",
        "import os"
      ],
      "metadata": {
        "id": "whZo16Bo7c3F"
      },
      "execution_count": 2,
      "outputs": []
    },
    {
      "cell_type": "code",
      "source": [
        "x = tf.constant([[1,2,3], [4,5,6]])"
      ],
      "metadata": {
        "id": "aTbpdJti79dd"
      },
      "execution_count": 7,
      "outputs": []
    },
    {
      "cell_type": "code",
      "source": [
        "print(x)"
      ],
      "metadata": {
        "id": "wWiQazxJ8y8x",
        "outputId": "dc85b67c-faff-4e8a-ad45-a2c34eee2777",
        "colab": {
          "base_uri": "https://localhost:8080/"
        }
      },
      "execution_count": 8,
      "outputs": [
        {
          "output_type": "stream",
          "name": "stdout",
          "text": [
            "tf.Tensor(\n",
            "[[1 2 3]\n",
            " [4 5 6]], shape=(2, 3), dtype=int32)\n"
          ]
        }
      ]
    },
    {
      "cell_type": "code",
      "source": [
        "x = tf.ones((5, 2))"
      ],
      "metadata": {
        "id": "g39qEMpZ80id"
      },
      "execution_count": 12,
      "outputs": []
    },
    {
      "cell_type": "code",
      "source": [
        "print(x)"
      ],
      "metadata": {
        "id": "VTRL3Njq9bd-",
        "outputId": "4e4edb13-1fc6-451d-a522-9c5d181e81f0",
        "colab": {
          "base_uri": "https://localhost:8080/"
        }
      },
      "execution_count": 13,
      "outputs": [
        {
          "output_type": "stream",
          "name": "stdout",
          "text": [
            "tf.Tensor(\n",
            "[[1. 1.]\n",
            " [1. 1.]\n",
            " [1. 1.]\n",
            " [1. 1.]\n",
            " [1. 1.]], shape=(5, 2), dtype=float32)\n"
          ]
        }
      ]
    },
    {
      "cell_type": "code",
      "source": [
        "y = tf.range(10)\n",
        "print(y)"
      ],
      "metadata": {
        "id": "5GQF-WLD9dkI",
        "outputId": "ade3435b-3464-43ee-8bfb-8832bd99d836",
        "colab": {
          "base_uri": "https://localhost:8080/"
        }
      },
      "execution_count": 14,
      "outputs": [
        {
          "output_type": "stream",
          "name": "stdout",
          "text": [
            "tf.Tensor([0 1 2 3 4 5 6 7 8 9], shape=(10,), dtype=int32)\n"
          ]
        }
      ]
    },
    {
      "cell_type": "code",
      "source": [
        "y = tf.cast(x, dtype = tf.float32)"
      ],
      "metadata": {
        "id": "Yhay_9A_95HB"
      },
      "execution_count": 15,
      "outputs": []
    },
    {
      "cell_type": "code",
      "source": [
        "print(y)"
      ],
      "metadata": {
        "id": "-IS2Y8Ri-MQz",
        "outputId": "35e789db-4e92-41ac-cb1b-1b3d9ef94c3d",
        "colab": {
          "base_uri": "https://localhost:8080/"
        }
      },
      "execution_count": 16,
      "outputs": [
        {
          "output_type": "stream",
          "name": "stdout",
          "text": [
            "tf.Tensor(\n",
            "[[1. 1.]\n",
            " [1. 1.]\n",
            " [1. 1.]\n",
            " [1. 1.]\n",
            " [1. 1.]], shape=(5, 2), dtype=float32)\n"
          ]
        }
      ]
    },
    {
      "cell_type": "code",
      "source": [
        "x = tf.random.normal((3,2))\n",
        "print(x)"
      ],
      "metadata": {
        "id": "EJTE_jbq-OA5",
        "outputId": "ae811c96-4fee-458e-ea61-a953a9099e50",
        "colab": {
          "base_uri": "https://localhost:8080/"
        }
      },
      "execution_count": 18,
      "outputs": [
        {
          "output_type": "stream",
          "name": "stdout",
          "text": [
            "tf.Tensor(\n",
            "[[ 0.35737577  1.838558  ]\n",
            " [ 0.5218495  -0.93592846]\n",
            " [-1.6657275   0.26915544]], shape=(3, 2), dtype=float32)\n"
          ]
        }
      ]
    },
    {
      "cell_type": "code",
      "source": [
        "x = tf.reshape(x, (2, 3))\n",
        "print(x)"
      ],
      "metadata": {
        "id": "20qgmwCT-v4H",
        "outputId": "f19f57bf-929a-45f0-a586-5020c308887f",
        "colab": {
          "base_uri": "https://localhost:8080/"
        }
      },
      "execution_count": 22,
      "outputs": [
        {
          "output_type": "stream",
          "name": "stdout",
          "text": [
            "tf.Tensor(\n",
            "[[ 0.35737577  1.838558    0.5218495 ]\n",
            " [-0.93592846 -1.6657275   0.26915544]], shape=(2, 3), dtype=float32)\n"
          ]
        }
      ]
    },
    {
      "cell_type": "code",
      "source": [
        "x = x.numpy()"
      ],
      "metadata": {
        "id": "bGTAnsGi_CLP"
      },
      "execution_count": 23,
      "outputs": []
    },
    {
      "cell_type": "code",
      "source": [
        "x = tf.convert_to_tensor(x)"
      ],
      "metadata": {
        "id": "fIEr2t7t_Mga"
      },
      "execution_count": 24,
      "outputs": []
    },
    {
      "cell_type": "code",
      "source": [
        "print(x)"
      ],
      "metadata": {
        "id": "EBmjgO9c_SZJ",
        "outputId": "96f89163-11fb-495c-9e2a-326b32311e77",
        "colab": {
          "base_uri": "https://localhost:8080/"
        }
      },
      "execution_count": 25,
      "outputs": [
        {
          "output_type": "stream",
          "name": "stdout",
          "text": [
            "tf.Tensor(\n",
            "[[ 0.35737577  1.838558    0.5218495 ]\n",
            " [-0.93592846 -1.6657275   0.26915544]], shape=(2, 3), dtype=float32)\n"
          ]
        }
      ]
    },
    {
      "cell_type": "code",
      "source": [
        "print(type(x))"
      ],
      "metadata": {
        "id": "yNMEw8Jm_WxM",
        "outputId": "5f3df27f-df9e-43ab-ccb0-a57905963639",
        "colab": {
          "base_uri": "https://localhost:8080/"
        }
      },
      "execution_count": 26,
      "outputs": [
        {
          "output_type": "stream",
          "name": "stdout",
          "text": [
            "<class 'tensorflow.python.framework.ops.EagerTensor'>\n"
          ]
        }
      ]
    },
    {
      "cell_type": "code",
      "source": [
        "x = tf.Variable([1,2,3])\n",
        "print(x)"
      ],
      "metadata": {
        "id": "-QmSkkEz_gYR",
        "outputId": "09e6b5ee-8326-4796-a1c9-698b3b6b2d45",
        "colab": {
          "base_uri": "https://localhost:8080/"
        }
      },
      "execution_count": 27,
      "outputs": [
        {
          "output_type": "stream",
          "name": "stdout",
          "text": [
            "<tf.Variable 'Variable:0' shape=(3,) dtype=int32, numpy=array([1, 2, 3], dtype=int32)>\n"
          ]
        }
      ]
    },
    {
      "cell_type": "code",
      "source": [
        "from tensorflow import keras\n",
        "import numpy as np\n",
        "import matplotlib.pyplot as plt"
      ],
      "metadata": {
        "id": "3W9EHnkF_4zt"
      },
      "execution_count": 28,
      "outputs": []
    },
    {
      "cell_type": "code",
      "source": [
        "mnist = keras.datasets.mnist"
      ],
      "metadata": {
        "id": "eL57cbg3BwIe"
      },
      "execution_count": 29,
      "outputs": []
    },
    {
      "cell_type": "code",
      "source": [
        "(x_train, y_train), (x_test, y_test) = mnist.load_data()\n",
        "print(x_train.shape, y_train.shape)"
      ],
      "metadata": {
        "id": "tDBbsNEfB1Bw",
        "outputId": "cc4f2512-62d5-4a7d-a1d8-565ca9af11a0",
        "colab": {
          "base_uri": "https://localhost:8080/"
        }
      },
      "execution_count": 79,
      "outputs": [
        {
          "output_type": "stream",
          "name": "stdout",
          "text": [
            "(60000, 28, 28) (60000,)\n"
          ]
        }
      ]
    },
    {
      "cell_type": "code",
      "source": [
        "x_train, x_test = x_train/255, x_test/255"
      ],
      "metadata": {
        "id": "WWedmbyzCMyg"
      },
      "execution_count": 80,
      "outputs": []
    },
    {
      "cell_type": "code",
      "source": [
        "for i in range(6):\n",
        "  plt.subplot(2, 3, i+1)\n",
        "  plt.imshow(x_train[i], cmap = 'gray')"
      ],
      "metadata": {
        "id": "eAEkGf_2CpMa",
        "outputId": "abe3a6c3-dbfe-4cd8-cd52-26d5a0f2b6bc",
        "colab": {
          "base_uri": "https://localhost:8080/",
          "height": 411
        }
      },
      "execution_count": 62,
      "outputs": [
        {
          "output_type": "display_data",
          "data": {
            "text/plain": [
              "<Figure size 640x480 with 6 Axes>"
            ],
            "image/png": "[encoded data removed]"
          },
          "metadata": {}
        }
      ]
    },
    {
      "cell_type": "code",
      "source": [
        "# model\n",
        "model = keras.Sequential([\n",
        "    keras.layers.Flatten(input_shape = (28,28)),\n",
        "    keras.layers.Dense(128, activation = 'relu'),\n",
        "    keras.layers.Dense(10)\n",
        "])"
      ],
      "metadata": {
        "id": "qbXKeSpSCyp1"
      },
      "execution_count": 69,
      "outputs": []
    },
    {
      "cell_type": "code",
      "source": [
        "print(model.summary())"
      ],
      "metadata": {
        "id": "8EB1lyB7Djp6",
        "outputId": "3a135efa-67e9-421f-b944-687545b37e72",
        "colab": {
          "base_uri": "https://localhost:8080/"
        }
      },
      "execution_count": 70,
      "outputs": [
        {
          "output_type": "stream",
          "name": "stdout",
          "text": [
            "Model: \"sequential_3\"\n",
            "_________________________________________________________________\n",
            " Layer (type)                Output Shape              Param #   \n",
            "=================================================================\n",
            " flatten_3 (Flatten)         (None, 784)               0         \n",
            "                                                                 \n",
            " dense_6 (Dense)             (None, 128)               100480    \n",
            "                                                                 \n",
            " dense_7 (Dense)             (None, 10)                1290      \n",
            "                                                                 \n",
            "=================================================================\n",
            "Total params: 101770 (397.54 KB)\n",
            "Trainable params: 101770 (397.54 KB)\n",
            "Non-trainable params: 0 (0.00 Byte)\n",
            "_________________________________________________________________\n",
            "None\n"
          ]
        }
      ]
    },
    {
      "cell_type": "code",
      "source": [
        "# Loss and Optimizer\n",
        "loss = keras.losses.SparseCategoricalCrossentropy(from_logits=True)\n",
        "optim = keras.optimizers.Adam(learning_rate= 0.001)\n",
        "metrics = ['accuracy']"
      ],
      "metadata": {
        "id": "v2vIurstE7Jn"
      },
      "execution_count": 71,
      "outputs": []
    },
    {
      "cell_type": "code",
      "source": [
        "model.compile(loss= loss, optimizer= optim, metrics= metrics)\n",
        "batch_size = 64\n",
        "epochs = 5"
      ],
      "metadata": {
        "id": "gUOvrjsOG3wf"
      },
      "execution_count": 72,
      "outputs": []
    },
    {
      "cell_type": "code",
      "source": [
        "model.fit(x_train, y_train, batch_size=batch_size, epochs=epochs, shuffle = True)"
      ],
      "metadata": {
        "id": "5FvCbpSjMxIC",
        "outputId": "17895dc3-b1c9-49e3-cef8-6a2969ba021c",
        "colab": {
          "base_uri": "https://localhost:8080/"
        }
      },
      "execution_count": 81,
      "outputs": [
        {
          "output_type": "stream",
          "name": "stdout",
          "text": [
            "Epoch 1/5\n",
            "938/938 [==============================] - 4s 4ms/step - loss: 13.4397 - accuracy: 0.9093\n",
            "Epoch 2/5\n",
            "938/938 [==============================] - 5s 6ms/step - loss: 4.8587 - accuracy: 0.9186\n",
            "Epoch 3/5\n",
            "938/938 [==============================] - 4s 4ms/step - loss: 2.4370 - accuracy: 0.9231\n",
            "Epoch 4/5\n",
            "938/938 [==============================] - 4s 4ms/step - loss: 1.4871 - accuracy: 0.9274\n",
            "Epoch 5/5\n",
            "938/938 [==============================] - 4s 5ms/step - loss: 1.0082 - accuracy: 0.9335\n"
          ]
        },
        {
          "output_type": "execute_result",
          "data": {
            "text/plain": [
              "<keras.src.callbacks.History at 0x7988573785e0>"
            ]
          },
          "metadata": {},
          "execution_count": 81
        }
      ]
    },
    {
      "cell_type": "markdown",
      "source": [],
      "metadata": {
        "id": "pFNFHhxtGCjX"
      }
    },
    {
      "cell_type": "code",
      "source": [
        "#evaluate\n",
        "model.evaluate(x_test, y_test, batch_size = batch_size, verbose = 2)"
      ],
      "metadata": {
        "id": "OSjbljoTW-RB",
        "outputId": "6a6be646-3f67-4b99-ba63-a26061f0a7fd",
        "colab": {
          "base_uri": "https://localhost:8080/"
        }
      },
      "execution_count": 82,
      "outputs": [
        {
          "output_type": "stream",
          "name": "stdout",
          "text": [
            "157/157 - 0s - loss: 0.9649 - accuracy: 0.9304 - 448ms/epoch - 3ms/step\n"
          ]
        },
        {
          "output_type": "execute_result",
          "data": {
            "text/plain": [
              "[0.9648985266685486, 0.930400013923645]"
            ]
          },
          "metadata": {},
          "execution_count": 82
        }
      ]
    },
    {
      "cell_type": "markdown",
      "source": [
        "#**Predictions**"
      ],
      "metadata": {
        "id": "Za4symeZZ_2r"
      }
    },
    {
      "cell_type": "code",
      "source": [
        "probability_model = keras.models.Sequential([\n",
        "    model,\n",
        "    keras.layers.Softmax()\n",
        "\n",
        "])"
      ],
      "metadata": {
        "id": "BG8Ch3hNXpQ1"
      },
      "execution_count": 83,
      "outputs": []
    },
    {
      "cell_type": "code",
      "source": [
        "predictions = probability_model(x_test)\n",
        "pred0 = predictions[0:5]\n",
        "print(pred0)\n"
      ],
      "metadata": {
        "id": "28rS4-Vgah_v",
        "outputId": "86b5cf0c-beaf-42be-ac91-b2f981213a6e",
        "colab": {
          "base_uri": "https://localhost:8080/"
        }
      },
      "execution_count": 88,
      "outputs": [
        {
          "output_type": "stream",
          "name": "stdout",
          "text": [
            "tf.Tensor(\n",
            "[[0.00000000e+00 0.00000000e+00 0.00000000e+00 1.18590376e-38\n",
            "  0.00000000e+00 0.00000000e+00 0.00000000e+00 9.99999940e-01\n",
            "  0.00000000e+00 0.00000000e+00]\n",
            " [0.00000000e+00 0.00000000e+00 9.99999940e-01 0.00000000e+00\n",
            "  0.00000000e+00 2.44502301e-22 0.00000000e+00 0.00000000e+00\n",
            "  0.00000000e+00 0.00000000e+00]\n",
            " [0.00000000e+00 9.99999940e-01 3.80923426e-09 1.15269653e-17\n",
            "  0.00000000e+00 8.82015955e-30 1.82447041e-26 4.26372476e-20\n",
            "  1.45408685e-15 9.92409361e-34]\n",
            " [9.99999940e-01 0.00000000e+00 2.72287133e-28 1.11615597e-36\n",
            "  0.00000000e+00 1.22695984e-24 0.00000000e+00 0.00000000e+00\n",
            "  2.38049317e-26 1.46019465e-24]\n",
            " [0.00000000e+00 0.00000000e+00 0.00000000e+00 0.00000000e+00\n",
            "  9.99999940e-01 0.00000000e+00 0.00000000e+00 4.18022979e-23\n",
            "  0.00000000e+00 6.32189179e-12]], shape=(5, 10), dtype=float32)\n"
          ]
        }
      ]
    },
    {
      "cell_type": "code",
      "source": [
        "label0 = np.argmax(pred0, axis = 1)\n",
        "print(label0)"
      ],
      "metadata": {
        "id": "UASgFCOobB8o",
        "outputId": "193da205-2eec-43c8-f99b-f95be434d3b9",
        "colab": {
          "base_uri": "https://localhost:8080/"
        }
      },
      "execution_count": 90,
      "outputs": [
        {
          "output_type": "stream",
          "name": "stdout",
          "text": [
            "[7 2 1 0 4]\n"
          ]
        }
      ]
    },
    {
      "cell_type": "code",
      "source": [
        "for i in range(5):\n",
        "  plt.subplot(2,3, i+1)\n",
        "  plt.imshow(x_test[i], cmap = 'gray')"
      ],
      "metadata": {
        "id": "0dWVHkKvbN9s",
        "outputId": "65a3dfb9-8b89-459b-a4b5-5d6b5969c9da",
        "colab": {
          "base_uri": "https://localhost:8080/",
          "height": 411
        }
      },
      "execution_count": 92,
      "outputs": [
        {
          "output_type": "display_data",
          "data": {
            "text/plain": [
              "<Figure size 640x480 with 5 Axes>"
            ],
            "image/png": "[encoded data removed]"
          },
          "metadata": {}
        }
      ]
    },
    {
      "cell_type": "code",
      "source": [],
      "metadata": {
        "id": "7fdFOz0ycKI2"
      },
      "execution_count": null,
      "outputs": []
    }
  ],
  "metadata": {
    "colab": {
      "name": "Welcome to Colaboratory",
      "toc_visible": true,
      "provenance": [],
      "include_colab_link": true
    },
    "kernelspec": {
      "display_name": "Python 3",
      "name": "python3"
    }
  },
  "nbformat": 4,
  "nbformat_minor": 0
}